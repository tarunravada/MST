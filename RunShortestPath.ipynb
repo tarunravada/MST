{
  "nbformat": 4,
  "nbformat_minor": 0,
  "metadata": {
    "colab": {
      "name": "RunShortestPath.ipynb",
      "provenance": [],
      "collapsed_sections": []
    },
    "kernelspec": {
      "name": "python385jvsc74a57bd0cb61c5db5108c30640404e7e88dce7c4a3f5092ea38138301c501295d8897490",
      "display_name": "Python 3.8.5 64-bit (conda)"
    },
    "language_info": {
      "name": "python",
      "version": "3.8.5-final"
    }
  },
  "cells": [
    {
      "source": [
        "### Notebook to run Dijkstra's Algorithm"
      ],
      "cell_type": "markdown",
      "metadata": {}
    },
    {
      "cell_type": "code",
      "metadata": {
        "id": "MRD7zOBnaxrF"
      },
      "source": [
        "# Import the Dijkstra's class and the Graph datastructure\n",
        "from ShortestPath_utils import Graph, Dijkstra"
      ],
      "execution_count": 1,
      "outputs": []
    },
    {
      "cell_type": "code",
      "execution_count": 2,
      "metadata": {},
      "outputs": [],
      "source": [
        "# To test with custom files add file name here\n",
        "\n",
        "# Using custom input format. Refer to provided files for input format\n",
        "# Graph vertices in input file must be numbers only\n",
        "\n",
        "file1 = \"SP1.txt\"   # Directed Graph with source\n",
        "file2 = \"SP2.txt\"   #Directed Graph without source\n",
        "file3 = \"SP3.txt\"   #Undirected Graph with source\n",
        "file4 = \"SP4.txt\"   #Undirected Graph without source\n",
        "\n",
        "# Add files to the Data folder\n",
        "# If files elsewhere, change this variable to point to relative path \n",
        "path = 'Data/'\n",
        "\n",
        "input1 = path+file1\n",
        "input2 = path+file2\n",
        "input3 = path+file3\n",
        "input4 = path+file4"
      ]
    },
    {
      "cell_type": "code",
      "execution_count": 3,
      "metadata": {},
      "outputs": [],
      "source": [
        "# Consolidation method to run the algortihm on input\n",
        "def runShortestPath(input):\n",
        "    g = Graph()\n",
        "    distance, src = g.readFromFile(input)\n",
        "    shortPath = Dijkstra(distance)\n",
        "    graph, path = shortPath.dijkstra(src)\n",
        "    g.printGraph(graph, src, path)"
      ]
    },
    {
      "cell_type": "code",
      "metadata": {
        "colab": {
          "base_uri": "https://localhost:8080/"
        },
        "id": "3aKnXeV_bBdI",
        "outputId": "4458ddf7-7c6a-454e-b1bf-e9cc35a03657"
      },
      "source": [
        "runShortestPath(input1)"
      ],
      "execution_count": 4,
      "outputs": [
        {
          "output_type": "stream",
          "name": "stdout",
          "text": [
            "Vertex\t\tDistance\tPath\n1 to 1 \t\t 0 \t\t 1\n1 to 2 \t\t 6 \t\t 1-3-2\n1 to 3 \t\t 3 \t\t 1-3\n1 to 4 \t\t 7 \t\t 1-3-2-4\n1 to 5 \t\t 5 \t\t 1-3-5\n1 to 6 \t\t 10 \t\t 1-3-5-6\n1 to 7 \t\t 11 \t\t 1-3-5-6-7\n1 to 8 \t\t 9 \t\t 1-3-2-4-8\n1 to 9 \t\t 9 \t\t 1-3-5-9\n"
          ]
        }
      ]
    },
    {
      "cell_type": "code",
      "metadata": {
        "colab": {
          "base_uri": "https://localhost:8080/"
        },
        "id": "9D8HxbqHdcsx",
        "outputId": "666a53e2-40de-4f1b-d4d0-ca5abb227663"
      },
      "source": [
        "runShortestPath(input2)"
      ],
      "execution_count": 5,
      "outputs": [
        {
          "output_type": "stream",
          "name": "stdout",
          "text": [
            "Vertex\t\tDistance\tPath\n1 to 1 \t\t 0 \t\t 1\n1 to 2 \t\t 1 \t\t 1-2\n1 to 3 \t\t 25 \t\t 1-2-8-4-3\n1 to 4 \t\t 23 \t\t 1-2-8-4\n1 to 5 \t\t 9 \t\t 1-5\n1 to 6 \t\t 4 \t\t 1-6\n1 to 7 \t\t 15 \t\t 1-2-8-7\n1 to 8 \t\t 11 \t\t 1-2-8\n"
          ]
        }
      ]
    },
    {
      "cell_type": "code",
      "metadata": {
        "colab": {
          "base_uri": "https://localhost:8080/"
        },
        "id": "ftBGbnxhdu2k",
        "outputId": "74e1e18c-a3a5-43fc-f43c-e491e8adf594"
      },
      "source": [
        "runShortestPath(input3)"
      ],
      "execution_count": 6,
      "outputs": [
        {
          "output_type": "stream",
          "name": "stdout",
          "text": [
            "Vertex\t\tDistance\tPath\n1 to 1 \t\t 0 \t\t 1\n1 to 2 \t\t 5 \t\t 1-3-2\n1 to 3 \t\t 3 \t\t 1-3\n1 to 4 \t\t 6 \t\t 1-3-2-4\n1 to 5 \t\t 5 \t\t 1-5\n1 to 6 \t\t 9 \t\t 1-5-7-6\n1 to 7 \t\t 8 \t\t 1-5-7\n1 to 8 \t\t 8 \t\t 1-3-2-4-8\n1 to 9 \t\t 9 \t\t 1-5-9\n"
          ]
        }
      ]
    },
    {
      "cell_type": "code",
      "metadata": {
        "colab": {
          "base_uri": "https://localhost:8080/"
        },
        "id": "SbDgYcZ9dxUi",
        "outputId": "8c8235a7-4708-41b2-d0e0-ba8783cd51a4"
      },
      "source": [
        "runShortestPath(input4)"
      ],
      "execution_count": 7,
      "outputs": [
        {
          "output_type": "stream",
          "name": "stdout",
          "text": [
            "Vertex\t\tDistance\tPath\n1 to 1 \t\t 0 \t\t 1\n1 to 2 \t\t 1 \t\t 1-2\n1 to 3 \t\t 2 \t\t 1-2-3\n1 to 4 \t\t 4 \t\t 1-2-3-4\n1 to 5 \t\t 9 \t\t 1-2-3-4-6-5\n1 to 6 \t\t 7 \t\t 1-2-3-4-6\n1 to 7 \t\t 8 \t\t 1-2-3-7\n1 to 8 \t\t 10 \t\t 1-2-3-4-6-8\n1 to 9 \t\t 16 \t\t 1-2-3-7-9\n"
          ]
        }
      ]
    }
  ]
}