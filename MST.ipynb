{
 "metadata": {
  "language_info": {
   "codemirror_mode": {
    "name": "ipython",
    "version": 3
   },
   "file_extension": ".py",
   "mimetype": "text/x-python",
   "name": "python",
   "nbconvert_exporter": "python",
   "pygments_lexer": "ipython3",
   "version": "3.8.5"
  },
  "orig_nbformat": 2,
  "kernelspec": {
   "name": "python385jvsc74a57bd0f24f3cd9e25e7e9d3697f7c90cd574822817b28f7e20fce2945fc248c2a23c53",
   "display_name": "Python 3.8.5 64-bit ('base': conda)"
  }
 },
 "nbformat": 4,
 "nbformat_minor": 2,
 "cells": [
  {
   "cell_type": "code",
   "execution_count": 66,
   "metadata": {},
   "outputs": [],
   "source": [
    "# Undirected Graph Data struct\n",
    "\n",
    "class UndirectedGraph:\n",
    "    def __init__(self):\n",
    "        self.vertices = set()\n",
    "        self.edges = []\n",
    "\n",
    "    def addEdge(self,u,v,w):\n",
    "        self.edges.append([u,v,w])\n",
    "        self.vertices.add(u)\n",
    "        self.vertices.add(v)\n",
    "\n",
    "    def printEdges(self):\n",
    "        minimumCost = 0\n",
    "        print (\"Edges in the constructed MST\")\n",
    "        for u, v, weight in self.edges:\n",
    "            minimumCost += weight\n",
    "            print(\"%s -- %s == %d\" % (u, v, weight))\n",
    "        print(\"Minimum Spanning Tree\" , minimumCost)\n",
    "\n",
    "    \n",
    "class MST:\n",
    "\n",
    "    def getRoot(self, x, roots):\n",
    "        if roots[x] == x:\n",
    "            return x\n",
    "        return self.getRoot(roots[x], roots)\n",
    "\n",
    "    def union(self, x, y, roots, ranks): \n",
    "        # Attach smaller rank tree under root of high rank tree (Union by Rank)\n",
    "        if ranks[x] < ranks[y]:\n",
    "            roots[x] = y\n",
    "        elif ranks[x] > ranks[y]:\n",
    "            roots[y] = x\n",
    "         # If ranks are same, then make one as root and increment its rank by one\n",
    "        else:\n",
    "            roots[y] = x\n",
    "            ranks[x] += 1\n",
    "    \n",
    "    def initForest(self,vertices,roots,ranks):\n",
    "        for vertex in vertices:\n",
    "            roots[vertex] = vertex\n",
    "            ranks[vertex] = 0\n",
    "    \n",
    "    def sortEdges(self,graph):\n",
    "        return graph.vertices, sorted(graph.edges, key = lambda x: x[2])\n",
    "\n",
    "    def kruskalMST(self,graph):\n",
    "        vertices = set()\n",
    "        edges = []\n",
    "        roots = {}\n",
    "        ranks = {}\n",
    "        mst = UndirectedGraph()\n",
    "\n",
    "        vertices, edges = self.sortEdges(graph)\n",
    "\n",
    "        self.initForest(vertices,roots,ranks)\n",
    "\n",
    "        i = 0 # An index variable, used for sorted edges\n",
    "        e = 0 # An index variable, used for result[]\n",
    "\n",
    "        # Number of edges to be taken is equal to V-1\n",
    "        while e < len(vertices) - 1:\n",
    " \n",
    "            # Step 2: Pick the smallest edge and increment the index for next iteration\n",
    "            u, v, w = edges[i]\n",
    "            i = i + 1\n",
    "            x = self.getRoot(u,roots)\n",
    "            y = self.getRoot(v,roots)\n",
    "\n",
    "            # If including this edge does't cause cycle, include it in result and increment the indexof result for next edge\n",
    "            if x != y:\n",
    "                e = e + 1\n",
    "                mst.addEdge(u, v, w)\n",
    "                self.union(x, y,roots,ranks)\n",
    "        \n",
    "        return mst\n",
    " \n",
    "        "
   ]
  },
  {
   "cell_type": "code",
   "execution_count": 67,
   "metadata": {},
   "outputs": [],
   "source": [
    "g = UndirectedGraph()\n",
    "\n",
    "g.addEdge('0', '1', 2)\n",
    "g.addEdge('0', '4', 1)\n",
    "g.addEdge('1', '2', 3)\n",
    "g.addEdge('1', '4', 10)\n",
    "g.addEdge('3', '2', -3)\n",
    "g.addEdge('2', '8', 7)\n",
    "g.addEdge('4', '5', 7)\n",
    "g.addEdge('4', '7', -5)\n",
    "g.addEdge('8', '5', 1)\n",
    "g.addEdge('6', '5', -1)\n",
    "g.addEdge('6', '7', 2)\n",
    "g.addEdge('5', '7', 2)"
   ]
  },
  {
   "cell_type": "code",
   "execution_count": 68,
   "metadata": {},
   "outputs": [
    {
     "output_type": "execute_result",
     "data": {
      "text/plain": [
       "{'0', '1', '2', '3', '4', '5', '6', '7', '8'}"
      ]
     },
     "metadata": {},
     "execution_count": 68
    }
   ],
   "source": [
    "g.vertices"
   ]
  },
  {
   "cell_type": "code",
   "execution_count": 69,
   "metadata": {},
   "outputs": [
    {
     "output_type": "stream",
     "name": "stdout",
     "text": [
      "Edges in the constructed MST\n4 -- 7 == -5\n3 -- 2 == -3\n6 -- 5 == -1\n0 -- 4 == 1\n8 -- 5 == 1\n0 -- 1 == 2\n6 -- 7 == 2\n1 -- 2 == 3\nMinimum Spanning Tree 0\n"
     ]
    }
   ],
   "source": [
    "mst = MST().kruskalMST(g)\n",
    "mst.printEdges()\n"
   ]
  },
  {
   "cell_type": "code",
   "execution_count": null,
   "metadata": {},
   "outputs": [],
   "source": []
  }
 ]
}