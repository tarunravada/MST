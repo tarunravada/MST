{
 "metadata": {
  "language_info": {
   "codemirror_mode": {
    "name": "ipython",
    "version": 3
   },
   "file_extension": ".py",
   "mimetype": "text/x-python",
   "name": "python",
   "nbconvert_exporter": "python",
   "pygments_lexer": "ipython3",
   "version": "3.8.5-final"
  },
  "orig_nbformat": 2,
  "kernelspec": {
   "name": "python385jvsc74a57bd0cb61c5db5108c30640404e7e88dce7c4a3f5092ea38138301c501295d8897490",
   "display_name": "Python 3.8.5 64-bit (conda)"
  }
 },
 "nbformat": 4,
 "nbformat_minor": 2,
 "cells": [
  {
   "source": [
    "### Notebook to run Kruskal's Algorithm for MST"
   ],
   "cell_type": "markdown",
   "metadata": {}
  },
  {
   "cell_type": "code",
   "execution_count": 1,
   "metadata": {},
   "outputs": [],
   "source": [
    "# import the MST implementagtin and Graph\n",
    "from MST_utils import UndirectedGraph, MST"
   ]
  },
  {
   "cell_type": "code",
   "execution_count": 2,
   "metadata": {},
   "outputs": [],
   "source": [
    "# To test with custom file add file name here\n",
    "UG1 = 'ug1.txt'\n",
    "UG2 = 'ug2.txt'\n",
    "UG3 = 'ug3.txt'\n",
    "UG4 = 'ug4.txt'\n",
    "\n",
    "# Add files to the Data folder\n",
    "# If files elsewhere, change this variable to point to relative path \n",
    "path = 'Data/'\n",
    "\n",
    "input1 = path + UG1\n",
    "input2 = path + UG2\n",
    "input3 = path + UG3\n",
    "input4 = path + UG4"
   ]
  },
  {
   "cell_type": "code",
   "execution_count": 3,
   "metadata": {},
   "outputs": [],
   "source": [
    "# Methods to load input and print output\n",
    "\n",
    "# Read input from file and run the MST algoritm\n",
    "# Returns the input graph read from file, and the mst as a graph\n",
    "def runMST(input):\n",
    "    G = UndirectedGraph()\n",
    "\n",
    "    with open(input, 'r') as file:\n",
    "        lines = [line.strip().split() for line in file]\n",
    "\n",
    "    vertices, edges, graphType = int(lines[0][0]), int(lines[0][1]), lines[0][2]\n",
    "\n",
    "    for i in range(1,edges+1):\n",
    "        u, v, w = lines[i][0], lines[i][1], int(lines[i][2])\n",
    "        G.addEdge(u, v, w)\n",
    "\n",
    "    mst = MST().kruskalMST(G)\n",
    "\n",
    "    return G, mst\n",
    "\n",
    "# Prints the the graphs\n",
    "def printMST(graph, mst):\n",
    "    print(\"\\nInput Graph read from file\", input)\n",
    "    graph.printEdges()\n",
    "    print(\"----------------------------------------\")\n",
    "    print(\"MST generated using Kruskal's algorithms\")\n",
    "    mst.printEdges()\n",
    "    print(\"\\n################################################\\n\")"
   ]
  },
  {
   "cell_type": "code",
   "execution_count": 4,
   "metadata": {},
   "outputs": [
    {
     "output_type": "stream",
     "name": "stdout",
     "text": [
      "\nInput Graph read from file <bound method Kernel.raw_input of <ipykernel.ipkernel.IPythonKernel object at 0x000002676B4C1640>>\nEdges\n0 -- 2 == 5\n0 -- 3 == 3\n0 -- 1 == 2\n1 -- 3 == -1\n2 -- 3 == 2\n2 -- 5 == 6\n3 -- 5 == 2\n3 -- 8 == 2\n3 -- 9 == 3\n8 -- 5 == -3\n8 -- 9 == 9\n5 -- 4 == -2\n5 -- 7 == 7\n5 -- 10 == 9\n4 -- 6 == 5\n6 -- 7 == 2\n7 -- 10 == 2\n9 -- 10 == 1\nTotal Weight 54\n----------------------------------------\nMST generated using Kruskal's algorithms\nEdges\n8 -- 5 == -3\n5 -- 4 == -2\n1 -- 3 == -1\n9 -- 10 == 1\n0 -- 1 == 2\n2 -- 3 == 2\n3 -- 5 == 2\n6 -- 7 == 2\n7 -- 10 == 2\n3 -- 9 == 3\nTotal Weight 8\n\n################################################\n\n"
     ]
    }
   ],
   "source": [
    "graph, mst = runMST(input1)\n",
    "printMST(graph, mst)"
   ]
  },
  {
   "cell_type": "code",
   "execution_count": 5,
   "metadata": {},
   "outputs": [
    {
     "output_type": "stream",
     "name": "stdout",
     "text": [
      "\nInput Graph read from file <bound method Kernel.raw_input of <ipykernel.ipkernel.IPythonKernel object at 0x000002676B4C1640>>\nEdges\nA -- D == 7\nA -- I == 9\nA -- L == 2\nB -- D == 3\nB -- E == -1\nC -- F == 6\nC -- G == -1\nD -- K == -1\nD -- J == 4\nE -- K == -2\nF -- H == 8\nG -- K == 1\nG -- L == -2\nG -- H == 7\nH -- L == 4\nH -- K == 8\nTotal Weight 52\n----------------------------------------\nMST generated using Kruskal's algorithms\nEdges\nE -- K == -2\nG -- L == -2\nB -- E == -1\nC -- G == -1\nD -- K == -1\nG -- K == 1\nA -- L == 2\nD -- J == 4\nH -- L == 4\nC -- F == 6\nA -- I == 9\nTotal Weight 19\n\n################################################\n\n"
     ]
    }
   ],
   "source": [
    "graph, mst = runMST(input2)\n",
    "printMST(graph, mst)"
   ]
  },
  {
   "cell_type": "code",
   "execution_count": 6,
   "metadata": {},
   "outputs": [
    {
     "output_type": "stream",
     "name": "stdout",
     "text": [
      "\nInput Graph read from file <bound method Kernel.raw_input of <ipykernel.ipkernel.IPythonKernel object at 0x000002676B4C1640>>\nEdges\nA -- I == 10\nA -- G == 4\nB -- J == 7\nB -- K == 2\nB -- D == 9\nC -- H == 2\nC -- K == 1\nC -- I == 5\nD -- E == 7\nE -- J == 3\nE -- G == 3\nF -- L == 3\nG -- I == 5\nH -- L == 9\nI -- L == 4\nI -- J == 1\nI -- K == 2\nTotal Weight 77\n----------------------------------------\nMST generated using Kruskal's algorithms\nEdges\nC -- K == 1\nI -- J == 1\nB -- K == 2\nC -- H == 2\nI -- K == 2\nE -- J == 3\nE -- G == 3\nF -- L == 3\nA -- G == 4\nI -- L == 4\nD -- E == 7\nTotal Weight 32\n\n################################################\n\n"
     ]
    }
   ],
   "source": [
    "graph, mst = runMST(input3)\n",
    "printMST(graph, mst)"
   ]
  },
  {
   "cell_type": "code",
   "execution_count": 7,
   "metadata": {},
   "outputs": [
    {
     "output_type": "stream",
     "name": "stdout",
     "text": [
      "\nInput Graph read from file <bound method Kernel.raw_input of <ipykernel.ipkernel.IPythonKernel object at 0x000002676B4C1640>>\nEdges\nA -- C == 1\nA -- G == 4\nB -- J == 7\nC -- D == 3\nD -- E == 6\nC -- H == 2\nD -- K == 0\nD -- I == 4\nD -- G == 7\nE -- J == 7\nF -- G == 2\nF -- L == 3\nG -- J == 5\nG -- L == 10\nH -- I == 5\nI -- J == 4\nI -- K == 2\nTotal Weight 72\n----------------------------------------\nMST generated using Kruskal's algorithms\nEdges\nD -- K == 0\nA -- C == 1\nC -- H == 2\nF -- G == 2\nI -- K == 2\nC -- D == 3\nF -- L == 3\nA -- G == 4\nI -- J == 4\nD -- E == 6\nB -- J == 7\nTotal Weight 34\n\n################################################\n\n"
     ]
    }
   ],
   "source": [
    "graph, mst = runMST(input4)\n",
    "printMST(graph, mst)"
   ]
  }
 ]
}