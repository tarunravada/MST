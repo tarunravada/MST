{
 "metadata": {
  "language_info": {
   "codemirror_mode": {
    "name": "ipython",
    "version": 3
   },
   "file_extension": ".py",
   "mimetype": "text/x-python",
   "name": "python",
   "nbconvert_exporter": "python",
   "pygments_lexer": "ipython3",
   "version": "3.8.5"
  },
  "orig_nbformat": 2,
  "kernelspec": {
   "name": "python385jvsc74a57bd0f24f3cd9e25e7e9d3697f7c90cd574822817b28f7e20fce2945fc248c2a23c53",
   "display_name": "Python 3.8.5 64-bit ('base': conda)"
  }
 },
 "nbformat": 4,
 "nbformat_minor": 2,
 "cells": [
  {
   "source": [
    "### Notebook to run Kruskal's Algorithm"
   ],
   "cell_type": "markdown",
   "metadata": {}
  },
  {
   "cell_type": "code",
   "execution_count": 1,
   "metadata": {},
   "outputs": [],
   "source": [
    "from MST_utils import UndirectedGraph, MST"
   ]
  },
  {
   "cell_type": "code",
   "execution_count": 10,
   "metadata": {},
   "outputs": [],
   "source": [
    "UG1 = 'ug1.txt'\n",
    "UG2 = 'ug2.txt'\n",
    "UG3 = 'ug3.txt'\n",
    "UG4 = 'ug4.txt'\n",
    "UG5 = 'ug5.txt'\n",
    "path = 'Data/'\n",
    "\n",
    "# Choose input file\n",
    "input = path+UG1"
   ]
  },
  {
   "cell_type": "code",
   "execution_count": 11,
   "metadata": {},
   "outputs": [],
   "source": [
    "# reads from file\n",
    "# this can be moved to utils\n",
    "\n",
    "# Returns the input graph read from file, and the mst as a graph\n",
    "def runMST(input):\n",
    "    G = UndirectedGraph()\n",
    "\n",
    "    with open(input, 'r') as file:\n",
    "        lines = [line.strip().split() for line in file]\n",
    "\n",
    "    vertices, edges, graphType = int(lines[0][0]), int(lines[0][1]), lines[0][2]\n",
    "\n",
    "    for i in range(1,edges+1):\n",
    "        u, v, w = lines[i][0], lines[i][1], int(lines[i][2])\n",
    "        G.addEdge(u, v, w)\n",
    "\n",
    "    mst = MST().kruskalMST(G)\n",
    "\n",
    "    return G, mst"
   ]
  },
  {
   "cell_type": "code",
   "execution_count": 12,
   "metadata": {},
   "outputs": [],
   "source": [
    "graph, mst = runMST(input)"
   ]
  },
  {
   "cell_type": "code",
   "execution_count": 13,
   "metadata": {},
   "outputs": [
    {
     "output_type": "stream",
     "name": "stdout",
     "text": [
      "Input Graph read from file Data/ug1.txt\nEdges\n0 -- 2 == 5\n0 -- 3 == 3\n0 -- 1 == 2\n1 -- 3 == -1\n2 -- 3 == 2\n2 -- 5 == 6\n3 -- 5 == 2\n3 -- 8 == 2\n3 -- 9 == 3\n8 -- 5 == -3\n8 -- 9 == 9\n5 -- 4 == -2\n5 -- 7 == 7\n5 -- 10 == 9\n4 -- 6 == 5\n6 -- 7 == 2\n7 -- 10 == 2\n9 -- 10 == 1\nTotal Weight 54\n\n#################################################\n\nMST generated using Kruskal's algorithms\nEdges\n8 -- 5 == -3\n5 -- 4 == -2\n1 -- 3 == -1\n9 -- 10 == 1\n0 -- 1 == 2\n2 -- 3 == 2\n3 -- 5 == 2\n6 -- 7 == 2\n7 -- 10 == 2\n3 -- 9 == 3\nTotal Weight 8\n"
     ]
    }
   ],
   "source": [
    "print(\"Input Graph read from file\", input)\n",
    "graph.printEdges()\n",
    "print(\"\\n#################################################\\n\")\n",
    "print(\"MST generated using Kruskal's algorithms\")\n",
    "mst.printEdges()"
   ]
  }
 ]
}